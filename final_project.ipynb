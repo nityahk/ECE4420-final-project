{
 "cells": [
  {
   "cell_type": "code",
   "execution_count": 2,
   "id": "953197fb-3e0c-4a10-8c16-a750d80d8058",
   "metadata": {},
   "outputs": [],
   "source": [
    "# Imports\n",
    "import math\n",
    "import cmle\n",
    "import random\n",
    "import string\n",
    "import numpy as np\n",
    "import pandas as pd\n",
    "from matplotlib import pyplot as plt\n",
    "from sklearn.compose import make_column_transformer\n"
   ]
  },
  {
   "cell_type": "code",
   "execution_count": 4,
   "id": "66276112-0bee-4ef9-a9a2-30c9afbbbf00",
   "metadata": {},
   "outputs": [
    {
     "data": {
      "text/plain": [
       "(3263, 4)"
      ]
     },
     "execution_count": 4,
     "metadata": {},
     "output_type": "execute_result"
    }
   ],
   "source": [
    "# Uplod train and test data\n",
    "tweets_df = pd.read_csv(\"test.csv\")\n",
    "tweets_df.shape"
   ]
  },
  {
   "cell_type": "code",
   "execution_count": 7,
   "id": "5eff55a9-3e5e-47d0-89ed-8030db54ff22",
   "metadata": {},
   "outputs": [],
   "source": [
    "# Change all characters to lowercase\n",
    "def Lowercase(df):\n",
    "    all_tweets = list()\n",
    "    lines = df[\"Review_text\"].values.tolist()\n",
    "    for text in lines:\n",
    "        text = text.lower()  \n",
    "    return all_tweets"
   ]
  },
  {
   "cell_type": "code",
   "execution_count": null,
   "id": "0151fc28-6c6f-4d93-90e3-f1bd37a7593b",
   "metadata": {},
   "outputs": [],
   "source": [
    "tweets_df"
   ]
  }
 ],
 "metadata": {
  "kernelspec": {
   "display_name": "Python 3 (ipykernel)",
   "language": "python",
   "name": "python3"
  },
  "language_info": {
   "codemirror_mode": {
    "name": "ipython",
    "version": 3
   },
   "file_extension": ".py",
   "mimetype": "text/x-python",
   "name": "python",
   "nbconvert_exporter": "python",
   "pygments_lexer": "ipython3",
   "version": "3.10.12"
  }
 },
 "nbformat": 4,
 "nbformat_minor": 5
}
